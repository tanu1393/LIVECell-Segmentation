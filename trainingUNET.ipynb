{
  "nbformat": 4,
  "nbformat_minor": 0,
  "metadata": {
    "colab": {
      "provenance": [],
      "gpuType": "T4"
    },
    "kernelspec": {
      "name": "python3",
      "display_name": "Python 3"
    },
    "language_info": {
      "name": "python"
    },
    "accelerator": "GPU",
    "widgets": {
      "application/vnd.jupyter.widget-state+json": {
        "bb7976b5f21b4411a2073211bcf47132": {
          "model_module": "@jupyter-widgets/controls",
          "model_name": "HBoxModel",
          "model_module_version": "1.5.0",
          "state": {
            "_dom_classes": [],
            "_model_module": "@jupyter-widgets/controls",
            "_model_module_version": "1.5.0",
            "_model_name": "HBoxModel",
            "_view_count": null,
            "_view_module": "@jupyter-widgets/controls",
            "_view_module_version": "1.5.0",
            "_view_name": "HBoxView",
            "box_style": "",
            "children": [
              "IPY_MODEL_7f4fc17ad7b1466e9442c897c7af3601",
              "IPY_MODEL_c5e3dd7568f1454789326073d544b13b",
              "IPY_MODEL_48735ad4a44f4a6581c23c2801f1418b"
            ],
            "layout": "IPY_MODEL_cfe2d784d8d743f38d1ec9e3cfe7079e"
          }
        },
        "7f4fc17ad7b1466e9442c897c7af3601": {
          "model_module": "@jupyter-widgets/controls",
          "model_name": "HTMLModel",
          "model_module_version": "1.5.0",
          "state": {
            "_dom_classes": [],
            "_model_module": "@jupyter-widgets/controls",
            "_model_module_version": "1.5.0",
            "_model_name": "HTMLModel",
            "_view_count": null,
            "_view_module": "@jupyter-widgets/controls",
            "_view_module_version": "1.5.0",
            "_view_name": "HTMLView",
            "description": "",
            "description_tooltip": null,
            "layout": "IPY_MODEL_ded498538f6c4a838aecc1b3f4b42449",
            "placeholder": "​",
            "style": "IPY_MODEL_f5a6d5786fab4ebb9fdaf912227a57e0",
            "value": "Sanity Checking DataLoader 0: 100%"
          }
        },
        "c5e3dd7568f1454789326073d544b13b": {
          "model_module": "@jupyter-widgets/controls",
          "model_name": "FloatProgressModel",
          "model_module_version": "1.5.0",
          "state": {
            "_dom_classes": [],
            "_model_module": "@jupyter-widgets/controls",
            "_model_module_version": "1.5.0",
            "_model_name": "FloatProgressModel",
            "_view_count": null,
            "_view_module": "@jupyter-widgets/controls",
            "_view_module_version": "1.5.0",
            "_view_name": "ProgressView",
            "bar_style": "",
            "description": "",
            "description_tooltip": null,
            "layout": "IPY_MODEL_e1a65cda71cb4648a21801cd9d3daeab",
            "max": 2,
            "min": 0,
            "orientation": "horizontal",
            "style": "IPY_MODEL_6043a72000c34c8ab13af5630f02bbed",
            "value": 2
          }
        },
        "48735ad4a44f4a6581c23c2801f1418b": {
          "model_module": "@jupyter-widgets/controls",
          "model_name": "HTMLModel",
          "model_module_version": "1.5.0",
          "state": {
            "_dom_classes": [],
            "_model_module": "@jupyter-widgets/controls",
            "_model_module_version": "1.5.0",
            "_model_name": "HTMLModel",
            "_view_count": null,
            "_view_module": "@jupyter-widgets/controls",
            "_view_module_version": "1.5.0",
            "_view_name": "HTMLView",
            "description": "",
            "description_tooltip": null,
            "layout": "IPY_MODEL_f921a44c6d5b4546a68000ba766d484c",
            "placeholder": "​",
            "style": "IPY_MODEL_b0539faaeae14bb5ac27d0a99fa07537",
            "value": " 2/2 [00:01&lt;00:00,  1.07it/s]"
          }
        },
        "cfe2d784d8d743f38d1ec9e3cfe7079e": {
          "model_module": "@jupyter-widgets/base",
          "model_name": "LayoutModel",
          "model_module_version": "1.2.0",
          "state": {
            "_model_module": "@jupyter-widgets/base",
            "_model_module_version": "1.2.0",
            "_model_name": "LayoutModel",
            "_view_count": null,
            "_view_module": "@jupyter-widgets/base",
            "_view_module_version": "1.2.0",
            "_view_name": "LayoutView",
            "align_content": null,
            "align_items": null,
            "align_self": null,
            "border": null,
            "bottom": null,
            "display": "inline-flex",
            "flex": null,
            "flex_flow": "row wrap",
            "grid_area": null,
            "grid_auto_columns": null,
            "grid_auto_flow": null,
            "grid_auto_rows": null,
            "grid_column": null,
            "grid_gap": null,
            "grid_row": null,
            "grid_template_areas": null,
            "grid_template_columns": null,
            "grid_template_rows": null,
            "height": null,
            "justify_content": null,
            "justify_items": null,
            "left": null,
            "margin": null,
            "max_height": null,
            "max_width": null,
            "min_height": null,
            "min_width": null,
            "object_fit": null,
            "object_position": null,
            "order": null,
            "overflow": null,
            "overflow_x": null,
            "overflow_y": null,
            "padding": null,
            "right": null,
            "top": null,
            "visibility": "hidden",
            "width": "100%"
          }
        },
        "ded498538f6c4a838aecc1b3f4b42449": {
          "model_module": "@jupyter-widgets/base",
          "model_name": "LayoutModel",
          "model_module_version": "1.2.0",
          "state": {
            "_model_module": "@jupyter-widgets/base",
            "_model_module_version": "1.2.0",
            "_model_name": "LayoutModel",
            "_view_count": null,
            "_view_module": "@jupyter-widgets/base",
            "_view_module_version": "1.2.0",
            "_view_name": "LayoutView",
            "align_content": null,
            "align_items": null,
            "align_self": null,
            "border": null,
            "bottom": null,
            "display": null,
            "flex": null,
            "flex_flow": null,
            "grid_area": null,
            "grid_auto_columns": null,
            "grid_auto_flow": null,
            "grid_auto_rows": null,
            "grid_column": null,
            "grid_gap": null,
            "grid_row": null,
            "grid_template_areas": null,
            "grid_template_columns": null,
            "grid_template_rows": null,
            "height": null,
            "justify_content": null,
            "justify_items": null,
            "left": null,
            "margin": null,
            "max_height": null,
            "max_width": null,
            "min_height": null,
            "min_width": null,
            "object_fit": null,
            "object_position": null,
            "order": null,
            "overflow": null,
            "overflow_x": null,
            "overflow_y": null,
            "padding": null,
            "right": null,
            "top": null,
            "visibility": null,
            "width": null
          }
        },
        "f5a6d5786fab4ebb9fdaf912227a57e0": {
          "model_module": "@jupyter-widgets/controls",
          "model_name": "DescriptionStyleModel",
          "model_module_version": "1.5.0",
          "state": {
            "_model_module": "@jupyter-widgets/controls",
            "_model_module_version": "1.5.0",
            "_model_name": "DescriptionStyleModel",
            "_view_count": null,
            "_view_module": "@jupyter-widgets/base",
            "_view_module_version": "1.2.0",
            "_view_name": "StyleView",
            "description_width": ""
          }
        },
        "e1a65cda71cb4648a21801cd9d3daeab": {
          "model_module": "@jupyter-widgets/base",
          "model_name": "LayoutModel",
          "model_module_version": "1.2.0",
          "state": {
            "_model_module": "@jupyter-widgets/base",
            "_model_module_version": "1.2.0",
            "_model_name": "LayoutModel",
            "_view_count": null,
            "_view_module": "@jupyter-widgets/base",
            "_view_module_version": "1.2.0",
            "_view_name": "LayoutView",
            "align_content": null,
            "align_items": null,
            "align_self": null,
            "border": null,
            "bottom": null,
            "display": null,
            "flex": "2",
            "flex_flow": null,
            "grid_area": null,
            "grid_auto_columns": null,
            "grid_auto_flow": null,
            "grid_auto_rows": null,
            "grid_column": null,
            "grid_gap": null,
            "grid_row": null,
            "grid_template_areas": null,
            "grid_template_columns": null,
            "grid_template_rows": null,
            "height": null,
            "justify_content": null,
            "justify_items": null,
            "left": null,
            "margin": null,
            "max_height": null,
            "max_width": null,
            "min_height": null,
            "min_width": null,
            "object_fit": null,
            "object_position": null,
            "order": null,
            "overflow": null,
            "overflow_x": null,
            "overflow_y": null,
            "padding": null,
            "right": null,
            "top": null,
            "visibility": null,
            "width": null
          }
        },
        "6043a72000c34c8ab13af5630f02bbed": {
          "model_module": "@jupyter-widgets/controls",
          "model_name": "ProgressStyleModel",
          "model_module_version": "1.5.0",
          "state": {
            "_model_module": "@jupyter-widgets/controls",
            "_model_module_version": "1.5.0",
            "_model_name": "ProgressStyleModel",
            "_view_count": null,
            "_view_module": "@jupyter-widgets/base",
            "_view_module_version": "1.2.0",
            "_view_name": "StyleView",
            "bar_color": null,
            "description_width": ""
          }
        },
        "f921a44c6d5b4546a68000ba766d484c": {
          "model_module": "@jupyter-widgets/base",
          "model_name": "LayoutModel",
          "model_module_version": "1.2.0",
          "state": {
            "_model_module": "@jupyter-widgets/base",
            "_model_module_version": "1.2.0",
            "_model_name": "LayoutModel",
            "_view_count": null,
            "_view_module": "@jupyter-widgets/base",
            "_view_module_version": "1.2.0",
            "_view_name": "LayoutView",
            "align_content": null,
            "align_items": null,
            "align_self": null,
            "border": null,
            "bottom": null,
            "display": null,
            "flex": null,
            "flex_flow": null,
            "grid_area": null,
            "grid_auto_columns": null,
            "grid_auto_flow": null,
            "grid_auto_rows": null,
            "grid_column": null,
            "grid_gap": null,
            "grid_row": null,
            "grid_template_areas": null,
            "grid_template_columns": null,
            "grid_template_rows": null,
            "height": null,
            "justify_content": null,
            "justify_items": null,
            "left": null,
            "margin": null,
            "max_height": null,
            "max_width": null,
            "min_height": null,
            "min_width": null,
            "object_fit": null,
            "object_position": null,
            "order": null,
            "overflow": null,
            "overflow_x": null,
            "overflow_y": null,
            "padding": null,
            "right": null,
            "top": null,
            "visibility": null,
            "width": null
          }
        },
        "b0539faaeae14bb5ac27d0a99fa07537": {
          "model_module": "@jupyter-widgets/controls",
          "model_name": "DescriptionStyleModel",
          "model_module_version": "1.5.0",
          "state": {
            "_model_module": "@jupyter-widgets/controls",
            "_model_module_version": "1.5.0",
            "_model_name": "DescriptionStyleModel",
            "_view_count": null,
            "_view_module": "@jupyter-widgets/base",
            "_view_module_version": "1.2.0",
            "_view_name": "StyleView",
            "description_width": ""
          }
        },
        "3302e12fdd8f4669b1eae98521175732": {
          "model_module": "@jupyter-widgets/controls",
          "model_name": "HBoxModel",
          "model_module_version": "1.5.0",
          "state": {
            "_dom_classes": [],
            "_model_module": "@jupyter-widgets/controls",
            "_model_module_version": "1.5.0",
            "_model_name": "HBoxModel",
            "_view_count": null,
            "_view_module": "@jupyter-widgets/controls",
            "_view_module_version": "1.5.0",
            "_view_name": "HBoxView",
            "box_style": "",
            "children": [
              "IPY_MODEL_3022668d663448a7ad208bb71671ad4f",
              "IPY_MODEL_bbaa8faeeaee4f43a66fcc66b126f72e",
              "IPY_MODEL_25e287f107544d82a2fd0e35c5f3a0f5"
            ],
            "layout": "IPY_MODEL_3a6eb3015d3e478ba3e4651494df26d1"
          }
        },
        "3022668d663448a7ad208bb71671ad4f": {
          "model_module": "@jupyter-widgets/controls",
          "model_name": "HTMLModel",
          "model_module_version": "1.5.0",
          "state": {
            "_dom_classes": [],
            "_model_module": "@jupyter-widgets/controls",
            "_model_module_version": "1.5.0",
            "_model_name": "HTMLModel",
            "_view_count": null,
            "_view_module": "@jupyter-widgets/controls",
            "_view_module_version": "1.5.0",
            "_view_name": "HTMLView",
            "description": "",
            "description_tooltip": null,
            "layout": "IPY_MODEL_48e858365eef4001ae997da1784078e3",
            "placeholder": "​",
            "style": "IPY_MODEL_502d25b73744469e893d5a3330eed3c4",
            "value": "Epoch 0: 100%"
          }
        },
        "bbaa8faeeaee4f43a66fcc66b126f72e": {
          "model_module": "@jupyter-widgets/controls",
          "model_name": "FloatProgressModel",
          "model_module_version": "1.5.0",
          "state": {
            "_dom_classes": [],
            "_model_module": "@jupyter-widgets/controls",
            "_model_module_version": "1.5.0",
            "_model_name": "FloatProgressModel",
            "_view_count": null,
            "_view_module": "@jupyter-widgets/controls",
            "_view_module_version": "1.5.0",
            "_view_name": "ProgressView",
            "bar_style": "success",
            "description": "",
            "description_tooltip": null,
            "layout": "IPY_MODEL_4685343915e2497195749f20896b2fc9",
            "max": 797,
            "min": 0,
            "orientation": "horizontal",
            "style": "IPY_MODEL_944c429a2006460c9023d1ffe189a236",
            "value": 797
          }
        },
        "25e287f107544d82a2fd0e35c5f3a0f5": {
          "model_module": "@jupyter-widgets/controls",
          "model_name": "HTMLModel",
          "model_module_version": "1.5.0",
          "state": {
            "_dom_classes": [],
            "_model_module": "@jupyter-widgets/controls",
            "_model_module_version": "1.5.0",
            "_model_name": "HTMLModel",
            "_view_count": null,
            "_view_module": "@jupyter-widgets/controls",
            "_view_module_version": "1.5.0",
            "_view_name": "HTMLView",
            "description": "",
            "description_tooltip": null,
            "layout": "IPY_MODEL_3038687774b04e31b3cce081f493b114",
            "placeholder": "​",
            "style": "IPY_MODEL_a02dc49e8a3d4ca092d0a905cf9afc72",
            "value": " 797/797 [12:23&lt;00:00,  1.07it/s, v_num=0, train_loss=0.341, train_dice=0.977, valid_loss=0.365, valid_dice=0.946]"
          }
        },
        "3a6eb3015d3e478ba3e4651494df26d1": {
          "model_module": "@jupyter-widgets/base",
          "model_name": "LayoutModel",
          "model_module_version": "1.2.0",
          "state": {
            "_model_module": "@jupyter-widgets/base",
            "_model_module_version": "1.2.0",
            "_model_name": "LayoutModel",
            "_view_count": null,
            "_view_module": "@jupyter-widgets/base",
            "_view_module_version": "1.2.0",
            "_view_name": "LayoutView",
            "align_content": null,
            "align_items": null,
            "align_self": null,
            "border": null,
            "bottom": null,
            "display": "inline-flex",
            "flex": null,
            "flex_flow": "row wrap",
            "grid_area": null,
            "grid_auto_columns": null,
            "grid_auto_flow": null,
            "grid_auto_rows": null,
            "grid_column": null,
            "grid_gap": null,
            "grid_row": null,
            "grid_template_areas": null,
            "grid_template_columns": null,
            "grid_template_rows": null,
            "height": null,
            "justify_content": null,
            "justify_items": null,
            "left": null,
            "margin": null,
            "max_height": null,
            "max_width": null,
            "min_height": null,
            "min_width": null,
            "object_fit": null,
            "object_position": null,
            "order": null,
            "overflow": null,
            "overflow_x": null,
            "overflow_y": null,
            "padding": null,
            "right": null,
            "top": null,
            "visibility": null,
            "width": "100%"
          }
        },
        "48e858365eef4001ae997da1784078e3": {
          "model_module": "@jupyter-widgets/base",
          "model_name": "LayoutModel",
          "model_module_version": "1.2.0",
          "state": {
            "_model_module": "@jupyter-widgets/base",
            "_model_module_version": "1.2.0",
            "_model_name": "LayoutModel",
            "_view_count": null,
            "_view_module": "@jupyter-widgets/base",
            "_view_module_version": "1.2.0",
            "_view_name": "LayoutView",
            "align_content": null,
            "align_items": null,
            "align_self": null,
            "border": null,
            "bottom": null,
            "display": null,
            "flex": null,
            "flex_flow": null,
            "grid_area": null,
            "grid_auto_columns": null,
            "grid_auto_flow": null,
            "grid_auto_rows": null,
            "grid_column": null,
            "grid_gap": null,
            "grid_row": null,
            "grid_template_areas": null,
            "grid_template_columns": null,
            "grid_template_rows": null,
            "height": null,
            "justify_content": null,
            "justify_items": null,
            "left": null,
            "margin": null,
            "max_height": null,
            "max_width": null,
            "min_height": null,
            "min_width": null,
            "object_fit": null,
            "object_position": null,
            "order": null,
            "overflow": null,
            "overflow_x": null,
            "overflow_y": null,
            "padding": null,
            "right": null,
            "top": null,
            "visibility": null,
            "width": null
          }
        },
        "502d25b73744469e893d5a3330eed3c4": {
          "model_module": "@jupyter-widgets/controls",
          "model_name": "DescriptionStyleModel",
          "model_module_version": "1.5.0",
          "state": {
            "_model_module": "@jupyter-widgets/controls",
            "_model_module_version": "1.5.0",
            "_model_name": "DescriptionStyleModel",
            "_view_count": null,
            "_view_module": "@jupyter-widgets/base",
            "_view_module_version": "1.2.0",
            "_view_name": "StyleView",
            "description_width": ""
          }
        },
        "4685343915e2497195749f20896b2fc9": {
          "model_module": "@jupyter-widgets/base",
          "model_name": "LayoutModel",
          "model_module_version": "1.2.0",
          "state": {
            "_model_module": "@jupyter-widgets/base",
            "_model_module_version": "1.2.0",
            "_model_name": "LayoutModel",
            "_view_count": null,
            "_view_module": "@jupyter-widgets/base",
            "_view_module_version": "1.2.0",
            "_view_name": "LayoutView",
            "align_content": null,
            "align_items": null,
            "align_self": null,
            "border": null,
            "bottom": null,
            "display": null,
            "flex": "2",
            "flex_flow": null,
            "grid_area": null,
            "grid_auto_columns": null,
            "grid_auto_flow": null,
            "grid_auto_rows": null,
            "grid_column": null,
            "grid_gap": null,
            "grid_row": null,
            "grid_template_areas": null,
            "grid_template_columns": null,
            "grid_template_rows": null,
            "height": null,
            "justify_content": null,
            "justify_items": null,
            "left": null,
            "margin": null,
            "max_height": null,
            "max_width": null,
            "min_height": null,
            "min_width": null,
            "object_fit": null,
            "object_position": null,
            "order": null,
            "overflow": null,
            "overflow_x": null,
            "overflow_y": null,
            "padding": null,
            "right": null,
            "top": null,
            "visibility": null,
            "width": null
          }
        },
        "944c429a2006460c9023d1ffe189a236": {
          "model_module": "@jupyter-widgets/controls",
          "model_name": "ProgressStyleModel",
          "model_module_version": "1.5.0",
          "state": {
            "_model_module": "@jupyter-widgets/controls",
            "_model_module_version": "1.5.0",
            "_model_name": "ProgressStyleModel",
            "_view_count": null,
            "_view_module": "@jupyter-widgets/base",
            "_view_module_version": "1.2.0",
            "_view_name": "StyleView",
            "bar_color": null,
            "description_width": ""
          }
        },
        "3038687774b04e31b3cce081f493b114": {
          "model_module": "@jupyter-widgets/base",
          "model_name": "LayoutModel",
          "model_module_version": "1.2.0",
          "state": {
            "_model_module": "@jupyter-widgets/base",
            "_model_module_version": "1.2.0",
            "_model_name": "LayoutModel",
            "_view_count": null,
            "_view_module": "@jupyter-widgets/base",
            "_view_module_version": "1.2.0",
            "_view_name": "LayoutView",
            "align_content": null,
            "align_items": null,
            "align_self": null,
            "border": null,
            "bottom": null,
            "display": null,
            "flex": null,
            "flex_flow": null,
            "grid_area": null,
            "grid_auto_columns": null,
            "grid_auto_flow": null,
            "grid_auto_rows": null,
            "grid_column": null,
            "grid_gap": null,
            "grid_row": null,
            "grid_template_areas": null,
            "grid_template_columns": null,
            "grid_template_rows": null,
            "height": null,
            "justify_content": null,
            "justify_items": null,
            "left": null,
            "margin": null,
            "max_height": null,
            "max_width": null,
            "min_height": null,
            "min_width": null,
            "object_fit": null,
            "object_position": null,
            "order": null,
            "overflow": null,
            "overflow_x": null,
            "overflow_y": null,
            "padding": null,
            "right": null,
            "top": null,
            "visibility": null,
            "width": null
          }
        },
        "a02dc49e8a3d4ca092d0a905cf9afc72": {
          "model_module": "@jupyter-widgets/controls",
          "model_name": "DescriptionStyleModel",
          "model_module_version": "1.5.0",
          "state": {
            "_model_module": "@jupyter-widgets/controls",
            "_model_module_version": "1.5.0",
            "_model_name": "DescriptionStyleModel",
            "_view_count": null,
            "_view_module": "@jupyter-widgets/base",
            "_view_module_version": "1.2.0",
            "_view_name": "StyleView",
            "description_width": ""
          }
        },
        "cc0fbfd50527428ebcb0e2b054f1c3c0": {
          "model_module": "@jupyter-widgets/controls",
          "model_name": "HBoxModel",
          "model_module_version": "1.5.0",
          "state": {
            "_dom_classes": [],
            "_model_module": "@jupyter-widgets/controls",
            "_model_module_version": "1.5.0",
            "_model_name": "HBoxModel",
            "_view_count": null,
            "_view_module": "@jupyter-widgets/controls",
            "_view_module_version": "1.5.0",
            "_view_name": "HBoxView",
            "box_style": "",
            "children": [
              "IPY_MODEL_f1432289a969481893e9bfd43cf11790",
              "IPY_MODEL_6258c3ba59b34bb39e9612dc75cdfb6d",
              "IPY_MODEL_e23f9bce60794f5190f3f7114fa8f614"
            ],
            "layout": "IPY_MODEL_dc3b5e9eb6184042a700f78649a7802f"
          }
        },
        "f1432289a969481893e9bfd43cf11790": {
          "model_module": "@jupyter-widgets/controls",
          "model_name": "HTMLModel",
          "model_module_version": "1.5.0",
          "state": {
            "_dom_classes": [],
            "_model_module": "@jupyter-widgets/controls",
            "_model_module_version": "1.5.0",
            "_model_name": "HTMLModel",
            "_view_count": null,
            "_view_module": "@jupyter-widgets/controls",
            "_view_module_version": "1.5.0",
            "_view_name": "HTMLView",
            "description": "",
            "description_tooltip": null,
            "layout": "IPY_MODEL_bddf5c10b92842d5bb40912bc3b6ee2d",
            "placeholder": "​",
            "style": "IPY_MODEL_9006e3cf004e4099a9e1d3223ddaa78b",
            "value": "Validation DataLoader 0: 100%"
          }
        },
        "6258c3ba59b34bb39e9612dc75cdfb6d": {
          "model_module": "@jupyter-widgets/controls",
          "model_name": "FloatProgressModel",
          "model_module_version": "1.5.0",
          "state": {
            "_dom_classes": [],
            "_model_module": "@jupyter-widgets/controls",
            "_model_module_version": "1.5.0",
            "_model_name": "FloatProgressModel",
            "_view_count": null,
            "_view_module": "@jupyter-widgets/controls",
            "_view_module_version": "1.5.0",
            "_view_name": "ProgressView",
            "bar_style": "",
            "description": "",
            "description_tooltip": null,
            "layout": "IPY_MODEL_e76cc6c4e3484fe2a63f712c9913d4e0",
            "max": 143,
            "min": 0,
            "orientation": "horizontal",
            "style": "IPY_MODEL_e8eb77836ea342458b147aac16654534",
            "value": 143
          }
        },
        "e23f9bce60794f5190f3f7114fa8f614": {
          "model_module": "@jupyter-widgets/controls",
          "model_name": "HTMLModel",
          "model_module_version": "1.5.0",
          "state": {
            "_dom_classes": [],
            "_model_module": "@jupyter-widgets/controls",
            "_model_module_version": "1.5.0",
            "_model_name": "HTMLModel",
            "_view_count": null,
            "_view_module": "@jupyter-widgets/controls",
            "_view_module_version": "1.5.0",
            "_view_name": "HTMLView",
            "description": "",
            "description_tooltip": null,
            "layout": "IPY_MODEL_154052cd8252452f88823b3179c98757",
            "placeholder": "​",
            "style": "IPY_MODEL_0b7b933374684e8caf745f45886ce553",
            "value": " 143/143 [00:40&lt;00:00,  3.49it/s]"
          }
        },
        "dc3b5e9eb6184042a700f78649a7802f": {
          "model_module": "@jupyter-widgets/base",
          "model_name": "LayoutModel",
          "model_module_version": "1.2.0",
          "state": {
            "_model_module": "@jupyter-widgets/base",
            "_model_module_version": "1.2.0",
            "_model_name": "LayoutModel",
            "_view_count": null,
            "_view_module": "@jupyter-widgets/base",
            "_view_module_version": "1.2.0",
            "_view_name": "LayoutView",
            "align_content": null,
            "align_items": null,
            "align_self": null,
            "border": null,
            "bottom": null,
            "display": "inline-flex",
            "flex": null,
            "flex_flow": "row wrap",
            "grid_area": null,
            "grid_auto_columns": null,
            "grid_auto_flow": null,
            "grid_auto_rows": null,
            "grid_column": null,
            "grid_gap": null,
            "grid_row": null,
            "grid_template_areas": null,
            "grid_template_columns": null,
            "grid_template_rows": null,
            "height": null,
            "justify_content": null,
            "justify_items": null,
            "left": null,
            "margin": null,
            "max_height": null,
            "max_width": null,
            "min_height": null,
            "min_width": null,
            "object_fit": null,
            "object_position": null,
            "order": null,
            "overflow": null,
            "overflow_x": null,
            "overflow_y": null,
            "padding": null,
            "right": null,
            "top": null,
            "visibility": "hidden",
            "width": "100%"
          }
        },
        "bddf5c10b92842d5bb40912bc3b6ee2d": {
          "model_module": "@jupyter-widgets/base",
          "model_name": "LayoutModel",
          "model_module_version": "1.2.0",
          "state": {
            "_model_module": "@jupyter-widgets/base",
            "_model_module_version": "1.2.0",
            "_model_name": "LayoutModel",
            "_view_count": null,
            "_view_module": "@jupyter-widgets/base",
            "_view_module_version": "1.2.0",
            "_view_name": "LayoutView",
            "align_content": null,
            "align_items": null,
            "align_self": null,
            "border": null,
            "bottom": null,
            "display": null,
            "flex": null,
            "flex_flow": null,
            "grid_area": null,
            "grid_auto_columns": null,
            "grid_auto_flow": null,
            "grid_auto_rows": null,
            "grid_column": null,
            "grid_gap": null,
            "grid_row": null,
            "grid_template_areas": null,
            "grid_template_columns": null,
            "grid_template_rows": null,
            "height": null,
            "justify_content": null,
            "justify_items": null,
            "left": null,
            "margin": null,
            "max_height": null,
            "max_width": null,
            "min_height": null,
            "min_width": null,
            "object_fit": null,
            "object_position": null,
            "order": null,
            "overflow": null,
            "overflow_x": null,
            "overflow_y": null,
            "padding": null,
            "right": null,
            "top": null,
            "visibility": null,
            "width": null
          }
        },
        "9006e3cf004e4099a9e1d3223ddaa78b": {
          "model_module": "@jupyter-widgets/controls",
          "model_name": "DescriptionStyleModel",
          "model_module_version": "1.5.0",
          "state": {
            "_model_module": "@jupyter-widgets/controls",
            "_model_module_version": "1.5.0",
            "_model_name": "DescriptionStyleModel",
            "_view_count": null,
            "_view_module": "@jupyter-widgets/base",
            "_view_module_version": "1.2.0",
            "_view_name": "StyleView",
            "description_width": ""
          }
        },
        "e76cc6c4e3484fe2a63f712c9913d4e0": {
          "model_module": "@jupyter-widgets/base",
          "model_name": "LayoutModel",
          "model_module_version": "1.2.0",
          "state": {
            "_model_module": "@jupyter-widgets/base",
            "_model_module_version": "1.2.0",
            "_model_name": "LayoutModel",
            "_view_count": null,
            "_view_module": "@jupyter-widgets/base",
            "_view_module_version": "1.2.0",
            "_view_name": "LayoutView",
            "align_content": null,
            "align_items": null,
            "align_self": null,
            "border": null,
            "bottom": null,
            "display": null,
            "flex": "2",
            "flex_flow": null,
            "grid_area": null,
            "grid_auto_columns": null,
            "grid_auto_flow": null,
            "grid_auto_rows": null,
            "grid_column": null,
            "grid_gap": null,
            "grid_row": null,
            "grid_template_areas": null,
            "grid_template_columns": null,
            "grid_template_rows": null,
            "height": null,
            "justify_content": null,
            "justify_items": null,
            "left": null,
            "margin": null,
            "max_height": null,
            "max_width": null,
            "min_height": null,
            "min_width": null,
            "object_fit": null,
            "object_position": null,
            "order": null,
            "overflow": null,
            "overflow_x": null,
            "overflow_y": null,
            "padding": null,
            "right": null,
            "top": null,
            "visibility": null,
            "width": null
          }
        },
        "e8eb77836ea342458b147aac16654534": {
          "model_module": "@jupyter-widgets/controls",
          "model_name": "ProgressStyleModel",
          "model_module_version": "1.5.0",
          "state": {
            "_model_module": "@jupyter-widgets/controls",
            "_model_module_version": "1.5.0",
            "_model_name": "ProgressStyleModel",
            "_view_count": null,
            "_view_module": "@jupyter-widgets/base",
            "_view_module_version": "1.2.0",
            "_view_name": "StyleView",
            "bar_color": null,
            "description_width": ""
          }
        },
        "154052cd8252452f88823b3179c98757": {
          "model_module": "@jupyter-widgets/base",
          "model_name": "LayoutModel",
          "model_module_version": "1.2.0",
          "state": {
            "_model_module": "@jupyter-widgets/base",
            "_model_module_version": "1.2.0",
            "_model_name": "LayoutModel",
            "_view_count": null,
            "_view_module": "@jupyter-widgets/base",
            "_view_module_version": "1.2.0",
            "_view_name": "LayoutView",
            "align_content": null,
            "align_items": null,
            "align_self": null,
            "border": null,
            "bottom": null,
            "display": null,
            "flex": null,
            "flex_flow": null,
            "grid_area": null,
            "grid_auto_columns": null,
            "grid_auto_flow": null,
            "grid_auto_rows": null,
            "grid_column": null,
            "grid_gap": null,
            "grid_row": null,
            "grid_template_areas": null,
            "grid_template_columns": null,
            "grid_template_rows": null,
            "height": null,
            "justify_content": null,
            "justify_items": null,
            "left": null,
            "margin": null,
            "max_height": null,
            "max_width": null,
            "min_height": null,
            "min_width": null,
            "object_fit": null,
            "object_position": null,
            "order": null,
            "overflow": null,
            "overflow_x": null,
            "overflow_y": null,
            "padding": null,
            "right": null,
            "top": null,
            "visibility": null,
            "width": null
          }
        },
        "0b7b933374684e8caf745f45886ce553": {
          "model_module": "@jupyter-widgets/controls",
          "model_name": "DescriptionStyleModel",
          "model_module_version": "1.5.0",
          "state": {
            "_model_module": "@jupyter-widgets/controls",
            "_model_module_version": "1.5.0",
            "_model_name": "DescriptionStyleModel",
            "_view_count": null,
            "_view_module": "@jupyter-widgets/base",
            "_view_module_version": "1.2.0",
            "_view_name": "StyleView",
            "description_width": ""
          }
        }
      }
    }
  },
  "cells": [
    {
      "cell_type": "markdown",
      "source": [
        "CELL SEGMENTATION USING U-NET\n",
        "\n",
        "Benefits of Using U-Net for Cell Segmentation\n",
        "\n",
        "High Accuracy: U-Net's skip connections preserve high-resolution features, leading to precise segmentation boundaries.\n",
        "Scalability: The architecture can handle 2D and 3D biomedical images.\n",
        "As a widely adopted model, U-Net has numerous extensions and enhancements that can be integrated based on task requirements."
      ],
      "metadata": {
        "id": "S4pfuqOToIOy"
      }
    },
    {
      "cell_type": "code",
      "execution_count": 1,
      "metadata": {
        "id": "LcrGBRSeoAhX",
        "colab": {
          "base_uri": "https://localhost:8080/"
        },
        "outputId": "b71e6238-2091-45eb-f580-2681b73fbc69"
      },
      "outputs": [
        {
          "output_type": "stream",
          "name": "stdout",
          "text": [
            "  % Total    % Received % Xferd  Average Speed   Time    Time     Time  Current\n",
            "                                 Dload  Upload   Total   Spent    Left  Speed\n",
            "100 25149    0 25149    0     0  44643      0 --:--:-- --:--:-- --:--:-- 44590\n"
          ]
        }
      ],
      "source": [
        "!curl -H \"GET /?list-type=2 HTTP/1.1\" \\\n",
        "     -H \"Host: livecell-dataset.s3.eu-central-1.amazonaws.com\" \\\n",
        "     -H \"Date: 20161025T124500Z\" \\\n",
        "     -H \"Content-Type: text/plain\" http://livecell-dataset.s3.eu-central-1.amazonaws.com/ > files.xml"
      ]
    },
    {
      "cell_type": "code",
      "source": [
        "!grep -oPm1 \"(?<=<Key>)[^<]+\" files.xml | sed -e 's/^/http:\\/\\/livecell-dataset.s3.eu-central-1.amazonaws.com\\//' > urls.txt"
      ],
      "metadata": {
        "id": "yPwmIBWooR2s"
      },
      "execution_count": 2,
      "outputs": []
    },
    {
      "cell_type": "markdown",
      "source": [
        "**DOWNLOAD THE IMAGES**"
      ],
      "metadata": {
        "id": "ZMpOY7uNoVlu"
      }
    },
    {
      "cell_type": "code",
      "source": [
        "!wget http://livecell-dataset.s3.eu-central-1.amazonaws.com/LIVECell_dataset_2021/images.zip"
      ],
      "metadata": {
        "id": "HGfyqJ0-oUux",
        "colab": {
          "base_uri": "https://localhost:8080/"
        },
        "outputId": "6ddb6cc0-70d0-415c-b692-211eeb906418"
      },
      "execution_count": 3,
      "outputs": [
        {
          "output_type": "stream",
          "name": "stdout",
          "text": [
            "--2024-11-17 18:16:42--  http://livecell-dataset.s3.eu-central-1.amazonaws.com/LIVECell_dataset_2021/images.zip\n",
            "Resolving livecell-dataset.s3.eu-central-1.amazonaws.com (livecell-dataset.s3.eu-central-1.amazonaws.com)... 52.219.140.53, 3.5.135.150, 52.219.75.100, ...\n",
            "Connecting to livecell-dataset.s3.eu-central-1.amazonaws.com (livecell-dataset.s3.eu-central-1.amazonaws.com)|52.219.140.53|:80... connected.\n",
            "HTTP request sent, awaiting response... 200 OK\n",
            "Length: 1241715651 (1.2G) [application/zip]\n",
            "Saving to: ‘images.zip’\n",
            "\n",
            "images.zip          100%[===================>]   1.16G  25.5MB/s    in 49s     \n",
            "\n",
            "2024-11-17 18:17:32 (24.1 MB/s) - ‘images.zip’ saved [1241715651/1241715651]\n",
            "\n"
          ]
        }
      ]
    },
    {
      "cell_type": "code",
      "source": [
        "!mkdir Dataset"
      ],
      "metadata": {
        "id": "f4Gv1PO3ofSY"
      },
      "execution_count": 4,
      "outputs": []
    },
    {
      "cell_type": "code",
      "source": [
        "!unzip -qq /content/images.zip -d /content/Dataset"
      ],
      "metadata": {
        "id": "bw9no_yJohaQ"
      },
      "execution_count": 5,
      "outputs": []
    },
    {
      "cell_type": "code",
      "source": [
        "!mkdir /content/Dataset/annotations"
      ],
      "metadata": {
        "id": "6ssEHLVFokgU"
      },
      "execution_count": 6,
      "outputs": []
    },
    {
      "cell_type": "code",
      "source": [
        "%cd /content/Dataset/annotations"
      ],
      "metadata": {
        "id": "CnUDjSvQop25",
        "colab": {
          "base_uri": "https://localhost:8080/"
        },
        "outputId": "c2d24c38-0836-400d-cf81-9897e89cedab"
      },
      "execution_count": 7,
      "outputs": [
        {
          "output_type": "stream",
          "name": "stdout",
          "text": [
            "/content/Dataset/annotations\n"
          ]
        }
      ]
    },
    {
      "cell_type": "markdown",
      "source": [
        "Download the JSON files containing annotations"
      ],
      "metadata": {
        "id": "4iTA2QYhouOM"
      }
    },
    {
      "cell_type": "code",
      "source": [
        "!wget http://livecell-dataset.s3.eu-central-1.amazonaws.com/LIVECell_dataset_2021/annotations/LIVECell/livecell_coco_test.json\n",
        "!wget http://livecell-dataset.s3.eu-central-1.amazonaws.com/LIVECell_dataset_2021/annotations/LIVECell/livecell_coco_train.json\n",
        "!wget http://livecell-dataset.s3.eu-central-1.amazonaws.com/LIVECell_dataset_2021/annotations/LIVECell/livecell_coco_val.json"
      ],
      "metadata": {
        "id": "jqR5J0gUotNb",
        "colab": {
          "base_uri": "https://localhost:8080/"
        },
        "outputId": "ac981846-4793-4660-e071-01d89c0fc7fe"
      },
      "execution_count": 8,
      "outputs": [
        {
          "output_type": "stream",
          "name": "stdout",
          "text": [
            "--2024-11-17 18:17:47--  http://livecell-dataset.s3.eu-central-1.amazonaws.com/LIVECell_dataset_2021/annotations/LIVECell/livecell_coco_test.json\n",
            "Resolving livecell-dataset.s3.eu-central-1.amazonaws.com (livecell-dataset.s3.eu-central-1.amazonaws.com)... 3.5.135.126, 3.5.137.201, 3.5.137.200, ...\n",
            "Connecting to livecell-dataset.s3.eu-central-1.amazonaws.com (livecell-dataset.s3.eu-central-1.amazonaws.com)|3.5.135.126|:80... connected.\n",
            "HTTP request sent, awaiting response... 200 OK\n",
            "Length: 260794837 (249M) [application/json]\n",
            "Saving to: ‘livecell_coco_test.json’\n",
            "\n",
            "livecell_coco_test. 100%[===================>] 248.71M  14.2MB/s    in 15s     \n",
            "\n",
            "2024-11-17 18:18:02 (16.5 MB/s) - ‘livecell_coco_test.json’ saved [260794837/260794837]\n",
            "\n",
            "--2024-11-17 18:18:02--  http://livecell-dataset.s3.eu-central-1.amazonaws.com/LIVECell_dataset_2021/annotations/LIVECell/livecell_coco_train.json\n",
            "Resolving livecell-dataset.s3.eu-central-1.amazonaws.com (livecell-dataset.s3.eu-central-1.amazonaws.com)... 3.5.135.63, 3.5.139.151, 52.219.170.166, ...\n",
            "Connecting to livecell-dataset.s3.eu-central-1.amazonaws.com (livecell-dataset.s3.eu-central-1.amazonaws.com)|3.5.135.63|:80... connected.\n",
            "HTTP request sent, awaiting response... 200 OK\n",
            "Length: 551131789 (526M) [application/json]\n",
            "Saving to: ‘livecell_coco_train.json’\n",
            "\n",
            "livecell_coco_train 100%[===================>] 525.60M  20.9MB/s    in 28s     \n",
            "\n",
            "2024-11-17 18:18:31 (18.9 MB/s) - ‘livecell_coco_train.json’ saved [551131789/551131789]\n",
            "\n",
            "--2024-11-17 18:18:31--  http://livecell-dataset.s3.eu-central-1.amazonaws.com/LIVECell_dataset_2021/annotations/LIVECell/livecell_coco_val.json\n",
            "Resolving livecell-dataset.s3.eu-central-1.amazonaws.com (livecell-dataset.s3.eu-central-1.amazonaws.com)... 3.5.134.2, 3.5.136.255, 3.5.135.194, ...\n",
            "Connecting to livecell-dataset.s3.eu-central-1.amazonaws.com (livecell-dataset.s3.eu-central-1.amazonaws.com)|3.5.134.2|:80... connected.\n",
            "HTTP request sent, awaiting response... 200 OK\n",
            "Length: 97272542 (93M) [application/json]\n",
            "Saving to: ‘livecell_coco_val.json’\n",
            "\n",
            "livecell_coco_val.j 100%[===================>]  92.77M  20.3MB/s    in 5.6s    \n",
            "\n",
            "2024-11-17 18:18:37 (16.4 MB/s) - ‘livecell_coco_val.json’ saved [97272542/97272542]\n",
            "\n"
          ]
        }
      ]
    },
    {
      "cell_type": "markdown",
      "source": [
        "We need the input images and the annotations to be drawn on the input images.\n",
        "The below code separates the images into sets such as train, val and test. It outputs the masks in separate sets as well for training purpose"
      ],
      "metadata": {
        "id": "IPfrqlqOo6-f"
      }
    },
    {
      "cell_type": "code",
      "source": [
        "import os\n",
        "import cv2\n",
        "import json\n",
        "import shutil\n",
        "import numpy as np\n",
        "\n",
        "image_dir = \"/content/Dataset/images\"\n",
        "annotations_dir = \"/content/Dataset/annotations\"\n",
        "output_masks_dir = \"/content/Dataset/masks\"\n",
        "\n",
        "# Mapping annotation files to their respective output folders\n",
        "annotation_to_output_folder = {\n",
        "    \"livecell_coco_train.json\": \"train\",\n",
        "    \"livecell_coco_val.json\": \"val\",\n",
        "    \"livecell_coco_test.json\": \"test\",\n",
        "}\n",
        "\n",
        "# Paths to the directories\n",
        "train_val_dir = os.path.join(image_dir, \"livecell_train_val_images\")\n",
        "test_dir = os.path.join(image_dir, \"livecell_test_images\")\n",
        "\n",
        "# Create the output directories\n",
        "os.makedirs(output_masks_dir, exist_ok=True)\n",
        "for folder in annotation_to_output_folder.values():\n",
        "    os.makedirs(os.path.join(output_masks_dir, folder), exist_ok=True)\n",
        "\n",
        "# Create separate input image directories\n",
        "train_folder = os.path.join(image_dir, \"livecell_train_images\")\n",
        "val_folder = os.path.join(image_dir, \"livecell_val_images\")\n",
        "test_folder = os.path.join(image_dir, \"livecell_test_images\")\n",
        "os.makedirs(train_folder, exist_ok=True)\n",
        "os.makedirs(val_folder, exist_ok=True)\n",
        "#os.makedirs(test_folder, exist_ok=True)\n",
        "\n",
        "# Function to create a binary mask\n",
        "def create_binary_mask(image_shape, segmentations):\n",
        "    # Initialize a blank binary mask\n",
        "    mask = np.zeros(image_shape, dtype=np.uint8)\n",
        "    for segmentation in segmentations:\n",
        "        # Convert the segmentation coordinates to a polygon\n",
        "        points = np.array(segmentation, dtype=np.int32).reshape((-1, 1, 2))\n",
        "        # Fill the polygon on the mask\n",
        "        cv2.fillPoly(mask, [points], color=1)  # White pixels for the mask\n",
        "    return mask\n",
        "\n",
        "# Process each annotation file\n",
        "for annotation_file, output_folder in annotation_to_output_folder.items():\n",
        "    json_path = os.path.join(annotations_dir, annotation_file)\n",
        "    with open(json_path, \"r\") as file:\n",
        "        data = json.load(file)\n",
        "\n",
        "    # Determine input subfolder based on annotation type\n",
        "    if annotation_file in [\"livecell_coco_train.json\", \"livecell_coco_val.json\"]:\n",
        "        input_dir = train_val_dir\n",
        "        target_folder = train_folder if annotation_file == \"livecell_coco_train.json\" else val_folder\n",
        "    else:\n",
        "        input_dir = test_dir\n",
        "        target_folder = test_folder\n",
        "\n",
        "    # Map image ID to image metadata\n",
        "    image_info = {img['id']: img for img in data['images']}\n",
        "\n",
        "    # Organize annotations by image ID\n",
        "    annotations = {}\n",
        "    for ann in data['annotations']:\n",
        "        img_id = ann['image_id']\n",
        "        if img_id not in annotations:\n",
        "            annotations[img_id] = []\n",
        "        annotations[img_id].append(ann['segmentation'])\n",
        "\n",
        "    # Process each image in the annotations\n",
        "    for img_id, seg_list in annotations.items():\n",
        "        if img_id not in image_info:\n",
        "            print(f\"Warning: Image ID {img_id} not found in image metadata.\")\n",
        "            continue\n",
        "\n",
        "        img_metadata = image_info[img_id]\n",
        "        img_path = os.path.join(input_dir, img_metadata['file_name'])\n",
        "\n",
        "        # Handle different extensions\n",
        "        if not os.path.exists(img_path):\n",
        "            img_path = img_path.replace(\".tif\", \".png\")\n",
        "        if not os.path.exists(img_path):\n",
        "            print(f\"Warning: Image not found for ID {img_id} at {img_path}. Skipping...\")\n",
        "            continue\n",
        "\n",
        "        # Move the image to its respective folder (train, val, or test)\n",
        "        target_path = os.path.join(target_folder, img_metadata['file_name'])\n",
        "        if not os.path.exists(target_path):\n",
        "            shutil.copy(img_path, target_path)\n",
        "\n",
        "        # Read the image\n",
        "        img = cv2.imread(img_path)\n",
        "        if img is None:\n",
        "            print(f\"Warning: Unable to read image at {img_path}. Skipping...\")\n",
        "            continue\n",
        "\n",
        "        # Create a binary mask with the same height and width as the image\n",
        "        binary_mask = create_binary_mask((img.shape[0], img.shape[1]), seg_list)\n",
        "\n",
        "        # Save the binary mask in the appropriate output subfolder\n",
        "        output_path = os.path.join(output_masks_dir, output_folder, img_metadata['file_name'])\n",
        "        cv2.imwrite(output_path, binary_mask)\n",
        "\n",
        "print(\"Masks applied, input images separated, and outputs saved!\")"
      ],
      "metadata": {
        "id": "t9BSuakno5VJ",
        "colab": {
          "base_uri": "https://localhost:8080/"
        },
        "outputId": "a5789937-193d-439e-8bac-0229d6dca641"
      },
      "execution_count": 9,
      "outputs": [
        {
          "output_type": "stream",
          "name": "stdout",
          "text": [
            "Masks applied, input images separated, and outputs saved!\n"
          ]
        }
      ]
    },
    {
      "cell_type": "markdown",
      "source": [
        "As we are using UNET, need to install segmentation-models-pytorch and also install lightning as we are using pytorch lightning"
      ],
      "metadata": {
        "id": "r1KaDZqZpvlj"
      }
    },
    {
      "cell_type": "code",
      "source": [
        "!pip install -q torchmetrics segmentation-models-pytorch lightning"
      ],
      "metadata": {
        "id": "8RXNlza4putX",
        "colab": {
          "base_uri": "https://localhost:8080/"
        },
        "outputId": "15a4690c-1534-4a14-ea96-d2e27ffa8764"
      },
      "execution_count": 10,
      "outputs": [
        {
          "output_type": "stream",
          "name": "stdout",
          "text": [
            "  Preparing metadata (setup.py) ... \u001b[?25l\u001b[?25hdone\n",
            "\u001b[2K     \u001b[90m━━━━━━━━━━━━━━━━━━━━━━━━━━━━━━━━━━━━━━━━\u001b[0m \u001b[32m58.8/58.8 kB\u001b[0m \u001b[31m5.3 MB/s\u001b[0m eta \u001b[36m0:00:00\u001b[0m\n",
            "\u001b[?25h  Preparing metadata (setup.py) ... \u001b[?25l\u001b[?25hdone\n",
            "\u001b[2K     \u001b[90m━━━━━━━━━━━━━━━━━━━━━━━━━━━━━━━━━━━━━━━━\u001b[0m \u001b[32m58.8/58.8 kB\u001b[0m \u001b[31m4.7 MB/s\u001b[0m eta \u001b[36m0:00:00\u001b[0m\n",
            "\u001b[2K   \u001b[90m━━━━━━━━━━━━━━━━━━━━━━━━━━━━━━━━━━━━━━━━\u001b[0m \u001b[32m926.4/926.4 kB\u001b[0m \u001b[31m28.5 MB/s\u001b[0m eta \u001b[36m0:00:00\u001b[0m\n",
            "\u001b[2K   \u001b[90m━━━━━━━━━━━━━━━━━━━━━━━━━━━━━━━━━━━━━━━━\u001b[0m \u001b[32m109.5/109.5 kB\u001b[0m \u001b[31m9.3 MB/s\u001b[0m eta \u001b[36m0:00:00\u001b[0m\n",
            "\u001b[2K   \u001b[90m━━━━━━━━━━━━━━━━━━━━━━━━━━━━━━━━━━━━━━━━\u001b[0m \u001b[32m2.2/2.2 MB\u001b[0m \u001b[31m81.4 MB/s\u001b[0m eta \u001b[36m0:00:00\u001b[0m\n",
            "\u001b[2K   \u001b[90m━━━━━━━━━━━━━━━━━━━━━━━━━━━━━━━━━━━━━━━━\u001b[0m \u001b[32m811.0/811.0 kB\u001b[0m \u001b[31m53.8 MB/s\u001b[0m eta \u001b[36m0:00:00\u001b[0m\n",
            "\u001b[2K   \u001b[90m━━━━━━━━━━━━━━━━━━━━━━━━━━━━━━━━━━━━━━━━\u001b[0m \u001b[32m815.2/815.2 kB\u001b[0m \u001b[31m48.8 MB/s\u001b[0m eta \u001b[36m0:00:00\u001b[0m\n",
            "\u001b[?25h  Building wheel for efficientnet-pytorch (setup.py) ... \u001b[?25l\u001b[?25hdone\n",
            "  Building wheel for pretrainedmodels (setup.py) ... \u001b[?25l\u001b[?25hdone\n"
          ]
        }
      ]
    },
    {
      "cell_type": "code",
      "source": [
        "%cd /content"
      ],
      "metadata": {
        "id": "2jY8jmxqqAak",
        "colab": {
          "base_uri": "https://localhost:8080/"
        },
        "outputId": "d77b69b7-2f10-4887-c874-fecb8a159a3a"
      },
      "execution_count": 11,
      "outputs": [
        {
          "output_type": "stream",
          "name": "stdout",
          "text": [
            "/content\n"
          ]
        }
      ]
    },
    {
      "cell_type": "markdown",
      "source": [
        "Create a custom DataLoader called SegmentDataset"
      ],
      "metadata": {
        "id": "TDl9zNG8qL0R"
      }
    },
    {
      "cell_type": "code",
      "source": [
        "import os\n",
        "import albumentations as A\n",
        "import cv2\n",
        "from albumentations.pytorch import ToTensorV2\n",
        "from torch.utils.data import Dataset\n",
        "\n",
        "class SegmentDataset(Dataset):\n",
        "    def __init__(self, dirPath=r'/content/Dataset', imageDir='images/livecell_train_images', masksDir='masks/train', train=True):\n",
        "        self.train = train\n",
        "        self.imgDirPath = os.path.join(dirPath, imageDir)\n",
        "        self.nameImgFile = sorted([f for f in os.listdir(self.imgDirPath) if f.endswith('.tif')])\n",
        "\n",
        "        if train:\n",
        "            self.maskDirPath = os.path.join(dirPath, masksDir)\n",
        "            self.nameMaskFile = sorted([f for f in os.listdir(self.maskDirPath) if f.endswith('.tif')])\n",
        "\n",
        "    def __len__(self):\n",
        "        return len(self.nameImgFile)\n",
        "\n",
        "    def __getitem__(self, index):\n",
        "        imgPath = os.path.join(self.imgDirPath, self.nameImgFile[index])\n",
        "        img = cv2.imread(imgPath, cv2.IMREAD_COLOR)\n",
        "        width = img.shape[0]\n",
        "        height = img.shape[1]\n",
        "\n",
        "        train_transform = A.Compose(\n",
        "            [\n",
        "                A.Resize(1024, 1024),\n",
        "                A.Normalize(mean=(0.485, 0.456, 0.406), std=(0.229, 0.224, 0.225)),\n",
        "                ToTensorV2(),\n",
        "            ])\n",
        "\n",
        "        if self.train:\n",
        "            maskPath = os.path.join(self.maskDirPath, self.nameMaskFile[index])\n",
        "            mask = cv2.imread(maskPath, cv2.IMREAD_GRAYSCALE) # Read mask as greyscale\n",
        "        else:\n",
        "            mask = img\n",
        "\n",
        "        dt = train_transform(image=img, mask=mask)\n",
        "        return dt['image'], dt['mask'], width, height, self.nameImgFile[index]"
      ],
      "metadata": {
        "id": "rw_6aQUpqGwQ",
        "colab": {
          "base_uri": "https://localhost:8080/"
        },
        "outputId": "ec682d26-384f-414c-8e58-70ca84e589b5"
      },
      "execution_count": 12,
      "outputs": [
        {
          "output_type": "stream",
          "name": "stderr",
          "text": [
            "/usr/local/lib/python3.10/dist-packages/albumentations/__init__.py:24: UserWarning: A new version of Albumentations is available: 1.4.21 (you have 1.4.20). Upgrade using: pip install -U albumentations. To disable automatic update checks, set the environment variable NO_ALBUMENTATIONS_UPDATE to 1.\n",
            "  check_for_updates()\n"
          ]
        }
      ]
    },
    {
      "cell_type": "code",
      "source": [
        "from torch.utils.data import DataLoader\n",
        "\n",
        "def get_train_val_data(dirPath=r'/content/Dataset', batch_size=4):\n",
        "\n",
        "    trainData = SegmentDataset(dirPath = dirPath)\n",
        "    valData = SegmentDataset(dirPath = dirPath, imageDir='images/livecell_val_images', masksDir='masks/val')\n",
        "\n",
        "    train_dl = DataLoader(trainData, batch_size=batch_size, shuffle=True, num_workers=2, pin_memory=True)\n",
        "    val_dl = DataLoader(valData, batch_size=batch_size, shuffle=False, num_workers=2, pin_memory=True)\n",
        "\n",
        "    return train_dl, val_dl"
      ],
      "metadata": {
        "id": "Tusi4kgSqVtb"
      },
      "execution_count": 13,
      "outputs": []
    },
    {
      "cell_type": "markdown",
      "source": [
        "Visualize the input image and the masks"
      ],
      "metadata": {
        "id": "Ju0CCAY-qyah"
      }
    },
    {
      "cell_type": "code",
      "source": [
        "train_dl, val_dl = get_train_val_data(batch_size=4)"
      ],
      "metadata": {
        "id": "po6aAk5kqgHq"
      },
      "execution_count": 14,
      "outputs": []
    },
    {
      "cell_type": "code",
      "source": [
        "import matplotlib.pyplot as plt\n",
        "import numpy as np\n",
        "\n",
        "i = next(iter(train_dl))\n",
        "img , mask, width, height, fileName = i\n",
        "plt.subplot(1,2,1)\n",
        "plt.imshow(img[0].permute(1,2,0).numpy())\n",
        "plt.title('Image')\n",
        "plt.axis(False)\n",
        "plt.subplot(1,2,2)\n",
        "plt.imshow(mask[0])\n",
        "plt.title('Mask')\n",
        "plt.axis(False)\n",
        "plt.show()"
      ],
      "metadata": {
        "id": "h_2TZ5DOquxu",
        "colab": {
          "base_uri": "https://localhost:8080/",
          "height": 301
        },
        "outputId": "3db69eb6-1efb-4c93-e6ce-0f530a18093d"
      },
      "execution_count": 15,
      "outputs": [
        {
          "output_type": "stream",
          "name": "stderr",
          "text": [
            "WARNING:matplotlib.image:Clipping input data to the valid range for imshow with RGB data ([0..1] for floats or [0..255] for integers).\n"
          ]
        },
        {
          "output_type": "display_data",
          "data": {
            "text/plain": [
              "<Figure size 640x480 with 2 Axes>"
            ],
            "image/png": "[encoded data removed]"
          },
          "metadata": {}
        }
      ]
    },
    {
      "cell_type": "markdown",
      "source": [
        "Below is the Segmentation Model from segmentation_models_pytorch"
      ],
      "metadata": {
        "id": "XqVb629VrF7C"
      }
    },
    {
      "cell_type": "code",
      "source": [
        "import torch\n",
        "from torch import nn\n",
        "from torchmetrics.classification import Dice\n",
        "import pytorch_lightning as pl\n",
        "from torch.optim import lr_scheduler\n",
        "from torch.utils.data import Subset, DataLoader\n",
        "import segmentation_models_pytorch as smp\n",
        "import argparse\n",
        "\n",
        "class CellSegmentation(pl.LightningModule):\n",
        "\n",
        "    def __init__(self, encoder_name, in_channels, out_classes, T_MAX, **kwargs):\n",
        "        super().__init__()\n",
        "        self.T_MAX = T_MAX\n",
        "        self.out_classes = out_classes\n",
        "        self.model = smp.Unet(\n",
        "            encoder_name=encoder_name, in_channels=in_channels, classes=out_classes, **kwargs\n",
        "        )\n",
        "\n",
        "        self.dice_metric = Dice(num_classes=out_classes, threshold=0.7)\n",
        "        self.criterion = nn.CrossEntropyLoss()\n",
        "\n",
        "        # initialize step metics\n",
        "        self.training_step_outputs = []\n",
        "        self.validation_step_outputs = []\n",
        "        self.test_step_outputs = []\n",
        "\n",
        "        self.save_hyperparameters()\n",
        "\n",
        "    def forward(self, image):\n",
        "        mask = self.model(image)\n",
        "        return mask\n",
        "\n",
        "    def shared_step(self, batch, stage):\n",
        "        image, mask, _, _, _ = batch\n",
        "\n",
        "        # Shape of the image should be (batch_size, num_channels, height, width)\n",
        "        # if you work with grayscale images, expand channels dim to have [batch_size, 1, height, width]\n",
        "        assert image.ndim == 4\n",
        "\n",
        "        # Check that image dimensions are divisible by 32,\n",
        "        # encoder and decoder connected by `skip connections` and usually encoder have 5 stages of\n",
        "        # downsampling by factor 2 (2 ^ 5 = 32); e.g. if we have image with shape 65x65 we will have\n",
        "        # following shapes of features in encoder and decoder: 84, 42, 21, 10, 5 -> 5, 10, 20, 40, 80\n",
        "        # and we will get an error trying to concat these features\n",
        "        h, w = image.shape[2:]\n",
        "        assert h % 32 == 0 and w % 32 == 0\n",
        "\n",
        "        logits_mask = self.forward(image)\n",
        "\n",
        "        loss_ce = self.criterion(logits_mask, mask.long())\n",
        "\n",
        "        prob_mask = logits_mask.argmax(axis=1)\n",
        "\n",
        "        dice_metric = self.dice_metric(prob_mask, mask)\n",
        "\n",
        "        self.log(f\"{stage}_loss\", loss_ce, prog_bar=True)\n",
        "        self.log(f\"{stage}_dice\", dice_metric, prog_bar=True)\n",
        "\n",
        "        return {\n",
        "            \"loss\": loss_ce,\n",
        "            \"dice_metric\": dice_metric,\n",
        "        }\n",
        "\n",
        "    def shared_epoch_end(self, outputs, stage):\n",
        "        pass\n",
        "\n",
        "    def training_step(self, batch, batch_idx):\n",
        "        train_loss_info = self.shared_step(batch, \"train\")\n",
        "        # append the metics of each step to the\n",
        "        self.training_step_outputs.append(train_loss_info)\n",
        "        return train_loss_info\n",
        "\n",
        "    def on_train_epoch_end(self):\n",
        "        # empty set output list\n",
        "        self.training_step_outputs.clear()\n",
        "        return\n",
        "\n",
        "    def validation_step(self, batch, batch_idx):\n",
        "        valid_loss_info = self.shared_step(batch, \"valid\")\n",
        "        self.validation_step_outputs.append(valid_loss_info)\n",
        "        return valid_loss_info\n",
        "\n",
        "    def on_validation_epoch_end(self):\n",
        "        self.validation_step_outputs.clear()\n",
        "        return\n",
        "\n",
        "    def test_step(self, batch, batch_idx):\n",
        "        test_loss_info = self.shared_step(batch, \"test\")\n",
        "        self.test_step_outputs.append(test_loss_info)\n",
        "        return test_loss_info\n",
        "\n",
        "    def on_test_epoch_end(self):\n",
        "        # empty set output list\n",
        "        self.test_step_outputs.clear()\n",
        "        return\n",
        "\n",
        "    def configure_optimizers(self):\n",
        "        optimizer = torch.optim.AdamW(self.parameters(), lr=1e-3, amsgrad=True)\n",
        "        scheduler = lr_scheduler.CosineAnnealingLR(optimizer, T_max=self.T_MAX, eta_min=1e-5)\n",
        "        return {\n",
        "            'optimizer': optimizer,\n",
        "            'lr_scheduler': {\n",
        "                'scheduler': scheduler,\n",
        "                'interval': 'step',\n",
        "                'frequency': 1,\n",
        "            },\n",
        "        }\n",
        "        return\n",
        "\n",
        "    def configure_callbacks(self):\n",
        "        early_stop = pl.callbacks.EarlyStopping(monitor=\"valid_loss\", mode=\"min\", min_delta=0.001, patience=5)\n",
        "        checkpoint = pl.callbacks.ModelCheckpoint(monitor=\"valid_loss\", filename='{epoch}-{valid_loss:.3f}')\n",
        "        return [early_stop, checkpoint]"
      ],
      "metadata": {
        "id": "2YkV2C0srA-1"
      },
      "execution_count": 16,
      "outputs": []
    },
    {
      "cell_type": "markdown",
      "source": [
        "Mention the parameters for training such as directory path, epochs, model saving path"
      ],
      "metadata": {
        "id": "7pbGvXbzrVQv"
      }
    },
    {
      "cell_type": "code",
      "source": [
        "parser = argparse.ArgumentParser(description = 'Segmentation training')\n",
        "parser.add_argument('--dirPath', default='/content/Dataset', help='Parent directory of training dataset')\n",
        "parser.add_argument('--epochs', default=1, type=int, help='Number of training epochs')\n",
        "parser.add_argument('--pretrained_model_name', default='resnet34', help='Pretrained encoder model name')\n",
        "parser.add_argument('--model_save_path', default='/content/trained_model', help='Path to save trained model')\n",
        "args = parser.parse_args([])"
      ],
      "metadata": {
        "id": "s5mvWe01rUXA"
      },
      "execution_count": 17,
      "outputs": []
    },
    {
      "cell_type": "markdown",
      "source": [
        "Training code\n"
      ],
      "metadata": {
        "id": "mvVHKf5TrzRb"
      }
    },
    {
      "cell_type": "code",
      "source": [
        "# Some training hyperparameters\n",
        "EPOCHS = args.epochs\n",
        "OUT_CLASSES = 2\n",
        "\n",
        "train_dl, val_dl = get_train_val_data(dirPath=args.dirPath)\n",
        "T_MAX = EPOCHS * len(train_dl)\n",
        "\n",
        "model = CellSegmentation(args.pretrained_model_name, in_channels=3, out_classes=OUT_CLASSES, activation='sigmoid', T_MAX=T_MAX)\n",
        "\n",
        "trainer = pl.Trainer(max_epochs=EPOCHS, log_every_n_steps=1)\n",
        "\n",
        "trainer.fit(\n",
        "    model,\n",
        "    train_dataloaders=train_dl,\n",
        "    val_dataloaders=val_dl,\n",
        ")"
      ],
      "metadata": {
        "id": "f5YpZI6Drm8J",
        "colab": {
          "base_uri": "https://localhost:8080/",
          "height": 468,
          "referenced_widgets": [
            "bb7976b5f21b4411a2073211bcf47132",
            "7f4fc17ad7b1466e9442c897c7af3601",
            "c5e3dd7568f1454789326073d544b13b",
            "48735ad4a44f4a6581c23c2801f1418b",
            "cfe2d784d8d743f38d1ec9e3cfe7079e",
            "ded498538f6c4a838aecc1b3f4b42449",
            "f5a6d5786fab4ebb9fdaf912227a57e0",
            "e1a65cda71cb4648a21801cd9d3daeab",
            "6043a72000c34c8ab13af5630f02bbed",
            "f921a44c6d5b4546a68000ba766d484c",
            "b0539faaeae14bb5ac27d0a99fa07537",
            "3302e12fdd8f4669b1eae98521175732",
            "3022668d663448a7ad208bb71671ad4f",
            "bbaa8faeeaee4f43a66fcc66b126f72e",
            "25e287f107544d82a2fd0e35c5f3a0f5",
            "3a6eb3015d3e478ba3e4651494df26d1",
            "48e858365eef4001ae997da1784078e3",
            "502d25b73744469e893d5a3330eed3c4",
            "4685343915e2497195749f20896b2fc9",
            "944c429a2006460c9023d1ffe189a236",
            "3038687774b04e31b3cce081f493b114",
            "a02dc49e8a3d4ca092d0a905cf9afc72",
            "cc0fbfd50527428ebcb0e2b054f1c3c0",
            "f1432289a969481893e9bfd43cf11790",
            "6258c3ba59b34bb39e9612dc75cdfb6d",
            "e23f9bce60794f5190f3f7114fa8f614",
            "dc3b5e9eb6184042a700f78649a7802f",
            "bddf5c10b92842d5bb40912bc3b6ee2d",
            "9006e3cf004e4099a9e1d3223ddaa78b",
            "e76cc6c4e3484fe2a63f712c9913d4e0",
            "e8eb77836ea342458b147aac16654534",
            "154052cd8252452f88823b3179c98757",
            "0b7b933374684e8caf745f45886ce553"
          ]
        },
        "outputId": "4b08eac5-ec62-4bd6-98bd-a5e916014a9f"
      },
      "execution_count": 18,
      "outputs": [
        {
          "output_type": "stream",
          "name": "stderr",
          "text": [
            "Downloading: \"https://download.pytorch.org/models/resnet34-333f7ec4.pth\" to /root/.cache/torch/hub/checkpoints/resnet34-333f7ec4.pth\n",
            "100%|██████████| 83.3M/83.3M [00:00<00:00, 142MB/s]\n",
            "INFO:pytorch_lightning.utilities.rank_zero:GPU available: True (cuda), used: True\n",
            "INFO:pytorch_lightning.utilities.rank_zero:TPU available: False, using: 0 TPU cores\n",
            "INFO:pytorch_lightning.utilities.rank_zero:HPU available: False, using: 0 HPUs\n",
            "INFO:pytorch_lightning.utilities.rank_zero:The following callbacks returned in `LightningModule.configure_callbacks` will override existing callbacks passed to Trainer: ModelCheckpoint\n",
            "INFO:pytorch_lightning.accelerators.cuda:LOCAL_RANK: 0 - CUDA_VISIBLE_DEVICES: [0]\n",
            "INFO:pytorch_lightning.callbacks.model_summary:\n",
            "  | Name        | Type             | Params | Mode \n",
            "---------------------------------------------------------\n",
            "0 | model       | Unet             | 24.4 M | train\n",
            "1 | dice_metric | Dice             | 0      | train\n",
            "2 | criterion   | CrossEntropyLoss | 0      | train\n",
            "---------------------------------------------------------\n",
            "24.4 M    Trainable params\n",
            "0         Non-trainable params\n",
            "24.4 M    Total params\n",
            "97.746    Total estimated model params size (MB)\n",
            "190       Modules in train mode\n",
            "0         Modules in eval mode\n"
          ]
        },
        {
          "output_type": "display_data",
          "data": {
            "text/plain": [
              "Sanity Checking: |          | 0/? [00:00<?, ?it/s]"
            ],
            "application/vnd.jupyter.widget-view+json": {
              "version_major": 2,
              "version_minor": 0,
              "model_id": "bb7976b5f21b4411a2073211bcf47132"
            }
          },
          "metadata": {}
        },
        {
          "output_type": "stream",
          "name": "stderr",
          "text": [
            "/usr/local/lib/python3.10/dist-packages/pytorch_lightning/utilities/data.py:78: Trying to infer the `batch_size` from an ambiguous collection. The batch size we found is 4. To avoid any miscalculations, use `self.log(..., batch_size=batch_size)`.\n"
          ]
        },
        {
          "output_type": "display_data",
          "data": {
            "text/plain": [
              "Training: |          | 0/? [00:00<?, ?it/s]"
            ],
            "application/vnd.jupyter.widget-view+json": {
              "version_major": 2,
              "version_minor": 0,
              "model_id": "3302e12fdd8f4669b1eae98521175732"
            }
          },
          "metadata": {}
        },
        {
          "output_type": "display_data",
          "data": {
            "text/plain": [
              "Validation: |          | 0/? [00:00<?, ?it/s]"
            ],
            "application/vnd.jupyter.widget-view+json": {
              "version_major": 2,
              "version_minor": 0,
              "model_id": "cc0fbfd50527428ebcb0e2b054f1c3c0"
            }
          },
          "metadata": {}
        },
        {
          "output_type": "stream",
          "name": "stderr",
          "text": [
            "/usr/local/lib/python3.10/dist-packages/pytorch_lightning/utilities/data.py:78: Trying to infer the `batch_size` from an ambiguous collection. The batch size we found is 1. To avoid any miscalculations, use `self.log(..., batch_size=batch_size)`.\n",
            "INFO:pytorch_lightning.utilities.rank_zero:`Trainer.fit` stopped: `max_epochs=1` reached.\n"
          ]
        }
      ]
    },
    {
      "cell_type": "markdown",
      "source": [
        "Once training is complete, save the best model in the mentioned directory"
      ],
      "metadata": {
        "id": "Fbjz92brr5KV"
      }
    },
    {
      "cell_type": "code",
      "source": [
        "del model"
      ],
      "metadata": {
        "id": "Q4IUlXyORIqa"
      },
      "execution_count": 19,
      "outputs": []
    },
    {
      "cell_type": "code",
      "source": [
        "best_model = CellSegmentation.load_from_checkpoint(\n",
        "    trainer.checkpoint_callback.best_model_path,\n",
        "    encoder_name=args.pretrained_model_name,\n",
        "    in_channels=3,\n",
        "    out_classes=OUT_CLASSES,\n",
        "    activation='sigmoid',\n",
        "    T_MAX=T_MAX\n",
        "    )\n",
        "\n",
        "best_model.model.save_pretrained(args.model_save_path)\n",
        "print(f\"Best model saved at {args.model_save_path}\")"
      ],
      "metadata": {
        "id": "UMcM2FL2r4ah",
        "colab": {
          "base_uri": "https://localhost:8080/"
        },
        "outputId": "a4a445e1-2bf5-46f9-c494-53aef64ad02f"
      },
      "execution_count": 20,
      "outputs": [
        {
          "output_type": "stream",
          "name": "stdout",
          "text": [
            "Best model saved at /content/trained_model\n"
          ]
        }
      ]
    }
  ]
}